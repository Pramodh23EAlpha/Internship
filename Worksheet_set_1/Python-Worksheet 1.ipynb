{
 "cells": [
  {
   "cell_type": "markdown",
   "id": "a4329af0",
   "metadata": {},
   "source": [
    "## 11. Write a python program to find the factorial of a number"
   ]
  },
  {
   "cell_type": "code",
   "execution_count": null,
   "id": "d8e3cdd5",
   "metadata": {},
   "outputs": [],
   "source": [
    "\n",
    "# Factorial of a integer is multiplication of all integers smaller than or equal to n\n",
    "\n",
    "\n",
    "user_input_num = int(input(\"Enter a number: \"))    # taking user inputs\n",
    "\n",
    "factorial = 1    \n",
    "\n",
    "if user_input_num < 0:    # checking if value entered by user is a negative number\n",
    "    print(\" Factorial does not exist for negative numbers\")    \n",
    "elif user_input_num == 0 or user_input_num ==1:  # factorial of 0&1 is one  \n",
    "    print(\"The factorial is 1\")    \n",
    "else:    \n",
    "    for i in range(1,user_input_num + 1):# 1,6..\n",
    "        factorial = factorial*i    #calculating the factorial \n",
    "    print(\"The factorial of\",user_input_num,\"is\",factorial)   "
   ]
  },
  {
   "cell_type": "markdown",
   "id": "5b1b87dc",
   "metadata": {},
   "source": [
    "## 12. Write a python program to find whether a number is prime or composite.\n"
   ]
  },
  {
   "cell_type": "code",
   "execution_count": null,
   "id": "849da226",
   "metadata": {},
   "outputs": [],
   "source": [
    "#Prime numbers are the numbers that have only two factors, that are, 1 and the number itself\n",
    "#A composite number is that can be formed by multiplying two smaller positive integers. Equivalently, it is a positive integer that has at least one divisor other than 1 and itself\n",
    "\n",
    "number_user = int(input(\"Enter a number :\"))\n",
    "\n",
    "if(number_user >1):#any number below 2 is not a prime or composite check\n",
    "    \n",
    "    for i in range(2,number_user):# iterate from 2 to user entered number\n",
    "        \n",
    "        if(number_user%i) == 0:\n",
    "            print(number_user , ' is a composite number')\n",
    "            break\n",
    "    else:\n",
    "        print(number_user,': is a prime number')\n",
    "            \n",
    "else:\n",
    "    print(number_user, ' is not prime or composite  number')\n",
    "            "
   ]
  },
  {
   "cell_type": "markdown",
   "id": "07cbfb2a",
   "metadata": {},
   "source": [
    "## 13. Write a python program to check whether a given string is palindrome or not.\n"
   ]
  },
  {
   "cell_type": "code",
   "execution_count": null,
   "id": "8b858b47",
   "metadata": {},
   "outputs": [],
   "source": [
    "#A string is said to be palindrome if the reverse of the string is the same as string\n",
    "\n",
    "entered_text = input(\"Enter your word :\")\n",
    "\n",
    "word = entered_text[::-1]\n",
    "\n",
    "if(word == entered_text):\n",
    "    print('Yes , Entered text is a PALINDROM')\n",
    "else:\n",
    "    print('No , Entered text is NOT A PALINDROM')\n"
   ]
  },
  {
   "cell_type": "markdown",
   "id": "d76b6ec8",
   "metadata": {},
   "source": [
    "## 14. Write a Python program to get the third side of right-angled triangle from two given sides."
   ]
  },
  {
   "cell_type": "code",
   "execution_count": null,
   "id": "10e76223",
   "metadata": {},
   "outputs": [],
   "source": [
    "import math\n",
    "\n",
    "side1 = float(input(\"Enter base: \"))\n",
    "side2 = float(input(\"Enter height: \"))\n",
    "\n",
    "side_hypotenoud = math.sqrt(side1 ** 2 + side2 ** 2)\n",
    "\n",
    "print(\"Hypotenuse =\", side_hypotenoud)"
   ]
  },
  {
   "cell_type": "markdown",
   "id": "47049930",
   "metadata": {},
   "source": [
    "## 15. Write a python program to print the frequency of each of the characters present in a given string."
   ]
  },
  {
   "cell_type": "code",
   "execution_count": null,
   "id": "e6ca6588",
   "metadata": {},
   "outputs": [],
   "source": [
    "input_word = str(input(\"Enter word\"))\n",
    "\n",
    "word_freq = {}\n",
    "  \n",
    "for char in input_word: \n",
    "   if char in word_freq: # checking if the character is there in our dict \n",
    "      word_freq[char] += 1\n",
    "   else: \n",
    "      word_freq[char] = 1\n",
    "\n",
    "# Show Output\n",
    "#print (\"Per char frequency in '{}' is :\\n {}\".format(input_string, str(frequencies)))\n",
    "\n",
    "# printing result \n",
    "print (\"The count of all characters in GeeksforGeeks is :\\n \"\n",
    "                                               +  str(word_freq))\n",
    "\n",
    "type(frequencies)"
   ]
  },
  {
   "cell_type": "code",
   "execution_count": null,
   "id": "34925db1",
   "metadata": {},
   "outputs": [],
   "source": []
  }
 ],
 "metadata": {
  "kernelspec": {
   "display_name": "Python 3",
   "language": "python",
   "name": "python3"
  },
  "language_info": {
   "codemirror_mode": {
    "name": "ipython",
    "version": 3
   },
   "file_extension": ".py",
   "mimetype": "text/x-python",
   "name": "python",
   "nbconvert_exporter": "python",
   "pygments_lexer": "ipython3",
   "version": "3.8.8"
  }
 },
 "nbformat": 4,
 "nbformat_minor": 5
}
